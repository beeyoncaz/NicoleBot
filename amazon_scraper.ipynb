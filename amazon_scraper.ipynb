{
 "cells": [
  {
   "cell_type": "code",
   "execution_count": 3,
   "id": "f3fcb9e5-56f4-44f9-b203-98cefbea0c54",
   "metadata": {},
   "outputs": [],
   "source": [
    "from bs4 import BeautifulSoup\n",
    "from selenium import webdriver\n",
    "import pandas as pd"
   ]
  },
  {
   "cell_type": "code",
   "execution_count": 2,
   "id": "62ccc1be-d286-42ae-b45d-5679fc86173a",
   "metadata": {},
   "outputs": [
    {
     "name": "stdout",
     "output_type": "stream",
     "text": [
      "Collecting selenium\n",
      "  Using cached selenium-4.34.2-py3-none-any.whl.metadata (7.5 kB)\n",
      "Requirement already satisfied: urllib3~=2.5.0 in ./venv/lib/python3.13/site-packages (from urllib3[socks]~=2.5.0->selenium) (2.5.0)\n",
      "Collecting trio~=0.30.0 (from selenium)\n",
      "  Using cached trio-0.30.0-py3-none-any.whl.metadata (8.5 kB)\n",
      "Collecting trio-websocket~=0.12.2 (from selenium)\n",
      "  Using cached trio_websocket-0.12.2-py3-none-any.whl.metadata (5.1 kB)\n",
      "Requirement already satisfied: certifi>=2025.6.15 in ./venv/lib/python3.13/site-packages (from selenium) (2025.7.14)\n",
      "Collecting typing_extensions~=4.14.0 (from selenium)\n",
      "  Using cached typing_extensions-4.14.1-py3-none-any.whl.metadata (3.0 kB)\n",
      "Requirement already satisfied: websocket-client~=1.8.0 in ./venv/lib/python3.13/site-packages (from selenium) (1.8.0)\n",
      "Requirement already satisfied: attrs>=23.2.0 in ./venv/lib/python3.13/site-packages (from trio~=0.30.0->selenium) (25.3.0)\n",
      "Collecting sortedcontainers (from trio~=0.30.0->selenium)\n",
      "  Using cached sortedcontainers-2.4.0-py2.py3-none-any.whl.metadata (10 kB)\n",
      "Requirement already satisfied: idna in ./venv/lib/python3.13/site-packages (from trio~=0.30.0->selenium) (3.10)\n",
      "Collecting outcome (from trio~=0.30.0->selenium)\n",
      "  Using cached outcome-1.3.0.post0-py2.py3-none-any.whl.metadata (2.6 kB)\n",
      "Requirement already satisfied: sniffio>=1.3.0 in ./venv/lib/python3.13/site-packages (from trio~=0.30.0->selenium) (1.3.1)\n",
      "Collecting wsproto>=0.14 (from trio-websocket~=0.12.2->selenium)\n",
      "  Using cached wsproto-1.2.0-py3-none-any.whl.metadata (5.6 kB)\n",
      "Collecting pysocks!=1.5.7,<2.0,>=1.5.6 (from urllib3[socks]~=2.5.0->selenium)\n",
      "  Using cached PySocks-1.7.1-py3-none-any.whl.metadata (13 kB)\n",
      "Requirement already satisfied: h11<1,>=0.9.0 in ./venv/lib/python3.13/site-packages (from wsproto>=0.14->trio-websocket~=0.12.2->selenium) (0.16.0)\n",
      "Using cached selenium-4.34.2-py3-none-any.whl (9.4 MB)\n",
      "Using cached trio-0.30.0-py3-none-any.whl (499 kB)\n",
      "Using cached trio_websocket-0.12.2-py3-none-any.whl (21 kB)\n",
      "Using cached typing_extensions-4.14.1-py3-none-any.whl (43 kB)\n",
      "Using cached outcome-1.3.0.post0-py2.py3-none-any.whl (10 kB)\n",
      "Using cached PySocks-1.7.1-py3-none-any.whl (16 kB)\n",
      "Using cached wsproto-1.2.0-py3-none-any.whl (24 kB)\n",
      "Using cached sortedcontainers-2.4.0-py2.py3-none-any.whl (29 kB)\n",
      "Installing collected packages: sortedcontainers, wsproto, typing_extensions, pysocks, outcome, trio, trio-websocket, selenium\n",
      "  Attempting uninstall: typing_extensions\n",
      "    Found existing installation: typing_extensions 4.12.2\n",
      "    Uninstalling typing_extensions-4.12.2:\n",
      "      Successfully uninstalled typing_extensions-4.12.2\n",
      "Successfully installed outcome-1.3.0.post0 pysocks-1.7.1 selenium-4.34.2 sortedcontainers-2.4.0 trio-0.30.0 trio-websocket-0.12.2 typing_extensions-4.14.1 wsproto-1.2.0\n",
      "\n",
      "\u001b[1m[\u001b[0m\u001b[34;49mnotice\u001b[0m\u001b[1;39;49m]\u001b[0m\u001b[39;49m A new release of pip is available: \u001b[0m\u001b[31;49m25.0\u001b[0m\u001b[39;49m -> \u001b[0m\u001b[32;49m25.1.1\u001b[0m\n",
      "\u001b[1m[\u001b[0m\u001b[34;49mnotice\u001b[0m\u001b[1;39;49m]\u001b[0m\u001b[39;49m To update, run: \u001b[0m\u001b[32;49mpip install --upgrade pip\u001b[0m\n"
     ]
    }
   ],
   "source": [
    "!pip install selenium"
   ]
  },
  {
   "cell_type": "code",
   "execution_count": 5,
   "id": "328d9d1a-b9f3-4ce4-8931-cffcc7ceed8d",
   "metadata": {},
   "outputs": [],
   "source": [
    "driver = webdriver.Chrome()"
   ]
  },
  {
   "cell_type": "code",
   "execution_count": 7,
   "id": "a0507315-0294-4f80-963a-57a73af167e5",
   "metadata": {},
   "outputs": [
    {
     "ename": "NoSuchWindowException",
     "evalue": "Message: no such window: target window already closed\nfrom unknown error: web view not found\n  (Session info: chrome=138.0.7204.158)\nStacktrace:\n0   chromedriver                        0x000000010093b55c cxxbridge1$str$ptr + 2731064\n1   chromedriver                        0x0000000100933454 cxxbridge1$str$ptr + 2698032\n2   chromedriver                        0x00000001004823f8 cxxbridge1$string$len + 90664\n3   chromedriver                        0x000000010045c140 chromedriver + 131392\n4   chromedriver                        0x00000001004f17f0 cxxbridge1$string$len + 546336\n5   chromedriver                        0x000000010050a638 cxxbridge1$string$len + 648296\n6   chromedriver                        0x00000001004bda0c cxxbridge1$string$len + 333884\n7   chromedriver                        0x00000001008fe5e0 cxxbridge1$str$ptr + 2481340\n8   chromedriver                        0x0000000100901848 cxxbridge1$str$ptr + 2494244\n9   chromedriver                        0x00000001008df234 cxxbridge1$str$ptr + 2353424\n10  chromedriver                        0x0000000100902104 cxxbridge1$str$ptr + 2496480\n11  chromedriver                        0x00000001008d02e4 cxxbridge1$str$ptr + 2292160\n12  chromedriver                        0x0000000100921ff8 cxxbridge1$str$ptr + 2627284\n13  chromedriver                        0x0000000100922184 cxxbridge1$str$ptr + 2627680\n14  chromedriver                        0x0000000100933090 cxxbridge1$str$ptr + 2697068\n15  libsystem_pthread.dylib             0x00000001918d2f94 _pthread_start + 136\n16  libsystem_pthread.dylib             0x00000001918cdd34 thread_start + 8\n",
     "output_type": "error",
     "traceback": [
      "\u001b[31m---------------------------------------------------------------------------\u001b[39m",
      "\u001b[31mNoSuchWindowException\u001b[39m                     Traceback (most recent call last)",
      "\u001b[36mCell\u001b[39m\u001b[36m \u001b[39m\u001b[32mIn[7]\u001b[39m\u001b[32m, line 1\u001b[39m\n\u001b[32m----> \u001b[39m\u001b[32m1\u001b[39m \u001b[43mdriver\u001b[49m\u001b[43m.\u001b[49m\u001b[43mget\u001b[49m\u001b[43m(\u001b[49m\u001b[33;43m'\u001b[39;49m\u001b[33;43mhttps://www.amazon.com/product-reviews/B0C3W4MNN1/ref=cm_cr_dp_d_show_all_btm?ie=UTF8&reviewerType=all_reviews\u001b[39;49m\u001b[33;43m'\u001b[39;49m\u001b[43m)\u001b[49m\n",
      "\u001b[36mFile \u001b[39m\u001b[32m~/venv/lib/python3.13/site-packages/selenium/webdriver/remote/webdriver.py:479\u001b[39m, in \u001b[36mWebDriver.get\u001b[39m\u001b[34m(self, url)\u001b[39m\n\u001b[32m    461\u001b[39m \u001b[38;5;28;01mdef\u001b[39;00m\u001b[38;5;250m \u001b[39m\u001b[34mget\u001b[39m(\u001b[38;5;28mself\u001b[39m, url: \u001b[38;5;28mstr\u001b[39m) -> \u001b[38;5;28;01mNone\u001b[39;00m:\n\u001b[32m    462\u001b[39m \u001b[38;5;250m    \u001b[39m\u001b[33;03m\"\"\"Navigate the browser to the specified URL in the current window or\u001b[39;00m\n\u001b[32m    463\u001b[39m \u001b[33;03m    tab.\u001b[39;00m\n\u001b[32m    464\u001b[39m \n\u001b[32m   (...)\u001b[39m\u001b[32m    477\u001b[39m \u001b[33;03m    >>> driver.get(\"https://example.com\")\u001b[39;00m\n\u001b[32m    478\u001b[39m \u001b[33;03m    \"\"\"\u001b[39;00m\n\u001b[32m--> \u001b[39m\u001b[32m479\u001b[39m     \u001b[38;5;28;43mself\u001b[39;49m\u001b[43m.\u001b[49m\u001b[43mexecute\u001b[49m\u001b[43m(\u001b[49m\u001b[43mCommand\u001b[49m\u001b[43m.\u001b[49m\u001b[43mGET\u001b[49m\u001b[43m,\u001b[49m\u001b[43m \u001b[49m\u001b[43m{\u001b[49m\u001b[33;43m\"\u001b[39;49m\u001b[33;43murl\u001b[39;49m\u001b[33;43m\"\u001b[39;49m\u001b[43m:\u001b[49m\u001b[43m \u001b[49m\u001b[43murl\u001b[49m\u001b[43m}\u001b[49m\u001b[43m)\u001b[49m\n",
      "\u001b[36mFile \u001b[39m\u001b[32m~/venv/lib/python3.13/site-packages/selenium/webdriver/remote/webdriver.py:454\u001b[39m, in \u001b[36mWebDriver.execute\u001b[39m\u001b[34m(self, driver_command, params)\u001b[39m\n\u001b[32m    451\u001b[39m response = cast(RemoteConnection, \u001b[38;5;28mself\u001b[39m.command_executor).execute(driver_command, params)\n\u001b[32m    453\u001b[39m \u001b[38;5;28;01mif\u001b[39;00m response:\n\u001b[32m--> \u001b[39m\u001b[32m454\u001b[39m     \u001b[38;5;28;43mself\u001b[39;49m\u001b[43m.\u001b[49m\u001b[43merror_handler\u001b[49m\u001b[43m.\u001b[49m\u001b[43mcheck_response\u001b[49m\u001b[43m(\u001b[49m\u001b[43mresponse\u001b[49m\u001b[43m)\u001b[49m\n\u001b[32m    455\u001b[39m     response[\u001b[33m\"\u001b[39m\u001b[33mvalue\u001b[39m\u001b[33m\"\u001b[39m] = \u001b[38;5;28mself\u001b[39m._unwrap_value(response.get(\u001b[33m\"\u001b[39m\u001b[33mvalue\u001b[39m\u001b[33m\"\u001b[39m, \u001b[38;5;28;01mNone\u001b[39;00m))\n\u001b[32m    456\u001b[39m     \u001b[38;5;28;01mreturn\u001b[39;00m response\n",
      "\u001b[36mFile \u001b[39m\u001b[32m~/venv/lib/python3.13/site-packages/selenium/webdriver/remote/errorhandler.py:232\u001b[39m, in \u001b[36mErrorHandler.check_response\u001b[39m\u001b[34m(self, response)\u001b[39m\n\u001b[32m    230\u001b[39m         alert_text = value[\u001b[33m\"\u001b[39m\u001b[33malert\u001b[39m\u001b[33m\"\u001b[39m].get(\u001b[33m\"\u001b[39m\u001b[33mtext\u001b[39m\u001b[33m\"\u001b[39m)\n\u001b[32m    231\u001b[39m     \u001b[38;5;28;01mraise\u001b[39;00m exception_class(message, screen, stacktrace, alert_text)  \u001b[38;5;66;03m# type: ignore[call-arg]  # mypy is not smart enough here\u001b[39;00m\n\u001b[32m--> \u001b[39m\u001b[32m232\u001b[39m \u001b[38;5;28;01mraise\u001b[39;00m exception_class(message, screen, stacktrace)\n",
      "\u001b[31mNoSuchWindowException\u001b[39m: Message: no such window: target window already closed\nfrom unknown error: web view not found\n  (Session info: chrome=138.0.7204.158)\nStacktrace:\n0   chromedriver                        0x000000010093b55c cxxbridge1$str$ptr + 2731064\n1   chromedriver                        0x0000000100933454 cxxbridge1$str$ptr + 2698032\n2   chromedriver                        0x00000001004823f8 cxxbridge1$string$len + 90664\n3   chromedriver                        0x000000010045c140 chromedriver + 131392\n4   chromedriver                        0x00000001004f17f0 cxxbridge1$string$len + 546336\n5   chromedriver                        0x000000010050a638 cxxbridge1$string$len + 648296\n6   chromedriver                        0x00000001004bda0c cxxbridge1$string$len + 333884\n7   chromedriver                        0x00000001008fe5e0 cxxbridge1$str$ptr + 2481340\n8   chromedriver                        0x0000000100901848 cxxbridge1$str$ptr + 2494244\n9   chromedriver                        0x00000001008df234 cxxbridge1$str$ptr + 2353424\n10  chromedriver                        0x0000000100902104 cxxbridge1$str$ptr + 2496480\n11  chromedriver                        0x00000001008d02e4 cxxbridge1$str$ptr + 2292160\n12  chromedriver                        0x0000000100921ff8 cxxbridge1$str$ptr + 2627284\n13  chromedriver                        0x0000000100922184 cxxbridge1$str$ptr + 2627680\n14  chromedriver                        0x0000000100933090 cxxbridge1$str$ptr + 2697068\n15  libsystem_pthread.dylib             0x00000001918d2f94 _pthread_start + 136\n16  libsystem_pthread.dylib             0x00000001918cdd34 thread_start + 8\n"
     ]
    }
   ],
   "source": [
    "driver.get('https://www.amazon.com/product-reviews/B0C3W4MNN1/ref=cm_cr_dp_d_show_all_btm?ie=UTF8&reviewerType=all_reviews')"
   ]
  },
  {
   "cell_type": "code",
   "execution_count": null,
   "id": "746e1177-6db3-481c-b8a6-7d5f9bec211c",
   "metadata": {},
   "outputs": [],
   "source": []
  }
 ],
 "metadata": {
  "kernelspec": {
   "display_name": "Python 3 (ipykernel)",
   "language": "python",
   "name": "python3"
  },
  "language_info": {
   "codemirror_mode": {
    "name": "ipython",
    "version": 3
   },
   "file_extension": ".py",
   "mimetype": "text/x-python",
   "name": "python",
   "nbconvert_exporter": "python",
   "pygments_lexer": "ipython3",
   "version": "3.13.5"
  }
 },
 "nbformat": 4,
 "nbformat_minor": 5
}
